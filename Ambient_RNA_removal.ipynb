{
 "cells": [
  {
   "cell_type": "code",
   "execution_count": null,
   "metadata": {},
   "outputs": [],
   "source": [
    "import scanpy as sc\n",
    "\n",
    "sample = 'sample_id'\n",
    "\n",
    "sample_adata= sc.read_10x_mtx(f'{data_dir}/{sample}/filtered_feature_bc_matrix', var_names='gene_symbols', cache=False)\n",
    "\n",
    "#### preprocess the data for clustering as soupX input\n",
    "adata_pp = sample_adata.copy()\n",
    "sc.pp.normalize_per_cell(adata_pp)\n",
    "sc.pp.log1p(adata_pp)\n",
    "sc.pp.pca(adata_pp)\n",
    "sc.pp.neighbors(adata_pp)\n",
    "sc.tl.leiden(adata_pp, key_added=\"soupx_groups\")\n",
    "soupx_groups = adata_pp.obs[\"soupx_groups\"]\n",
    "\n",
    "del adata_pp\n",
    "#############################\n",
    "\n",
    "cells = sample_adata.obs_names\n",
    "genes = sample_adata.var_names\n",
    "data = sample_adata.X.T\n",
    "##### read in the raw files \n",
    "sample_raw = sc.read_10x_mtx(f'{data_dir}/{sample}/raw_feature_bc_matrix', var_names='gene_symbols', cache=False)\n",
    "sample_raw.var_names_make_unique()\n",
    "data_tod = sample_raw.X.T\n"
   ]
  },
  {
   "cell_type": "code",
   "execution_count": null,
   "metadata": {},
   "outputs": [],
   "source": [
    "import logging\n",
    "\n",
    "import anndata2ri\n",
    "import rpy2.rinterface_lib.callbacks as rcb\n",
    "import rpy2.robjects as ro\n",
    "\n",
    "rcb.logger.setLevel(logging.ERROR)\n",
    "ro.pandas2ri.activate()\n",
    "anndata2ri.activate()\n",
    "\n",
    "%load_ext rpy2.ipython"
   ]
  },
  {
   "cell_type": "code",
   "execution_count": null,
   "metadata": {},
   "outputs": [],
   "source": [
    "%%R\n",
    "library(SoupX)"
   ]
  },
  {
   "cell_type": "code",
   "execution_count": null,
   "metadata": {},
   "outputs": [],
   "source": [
    "%%R -i data -i data_tod -i genes -i cells -i soupx_groups -o out \n",
    "\n",
    "# specify row and column names of data\n",
    "rownames(data) = genes\n",
    "colnames(data) = cells\n",
    "# ensure correct sparse format for table of counts and table of droplets\n",
    "data <- as(data, \"sparseMatrix\")\n",
    "data_tod <- as(data_tod, \"sparseMatrix\")\n",
    "\n",
    "# Generate SoupChannel Object for SoupX \n",
    "sc = SoupChannel(data_tod, data, calcSoupProfile = FALSE)\n",
    "\n",
    "# Add extra meta data to the SoupChannel object\n",
    "soupProf = data.frame(row.names = rownames(data), est = rowSums(data)/sum(data), counts = rowSums(data))\n",
    "sc = setSoupProfile(sc, soupProf)\n",
    "# Set cluster information in SoupChannel\n",
    "sc = setClusters(sc, soupx_groups)\n",
    "\n",
    "# Estimate contamination fraction\n",
    "sc  = autoEstCont(sc, doPlot=FALSE)\n",
    "# Infer corrected table of counts and rount to integer\n",
    "out = adjustCounts(sc, roundToInt = TRUE)"
   ]
  },
  {
   "cell_type": "code",
   "execution_count": null,
   "metadata": {},
   "outputs": [],
   "source": [
    "sample_adata.layers[\"counts\"] = sample_adata.X\n",
    "sample_adata.layers[\"soupX_counts\"] = out.T\n",
    "sample_adata.X = sample_adata.layers[\"soupX_counts\"]"
   ]
  },
  {
   "cell_type": "code",
   "execution_count": null,
   "metadata": {},
   "outputs": [],
   "source": [
    "sample_adata.X = sample_adata.layers[\"soupX_counts\"]\n",
    "sc.pp.filter_genes(sample_adata, min_cells=20)\n",
    "sample_adata.X = sample_adata.layers[\"counts\"]\n",
    "sample_adata.write_h5ad(os.path.join(results_dir,'sample_adata_soupX_counts.h5ad'))\n",
    "\n",
    "### repeat the process for all samples"
   ]
  }
 ],
 "metadata": {
  "kernelspec": {
   "display_name": "env-conda",
   "language": "python",
   "name": "python3"
  },
  "language_info": {
   "name": "python",
   "version": "3.12.4"
  }
 },
 "nbformat": 4,
 "nbformat_minor": 2
}
